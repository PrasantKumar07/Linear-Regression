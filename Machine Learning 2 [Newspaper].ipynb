{
 "cells": [
  {
   "cell_type": "code",
   "execution_count": 20,
   "id": "67f77192-d0fa-45b2-a98e-75f3739c591a",
   "metadata": {},
   "outputs": [],
   "source": [
    "import pandas as pd\n",
    "import numpy as np\n",
    "import seaborn as sns\n",
    "import plotly.express as px\n",
    "from sklearn.model_selection import train_test_split\n",
    "from sklearn.linear_model import LinearRegression"
   ]
  },
  {
   "cell_type": "code",
   "execution_count": 21,
   "id": "4f22f5d9-467a-43b7-a6cf-ad5050fbb3dc",
   "metadata": {},
   "outputs": [
    {
     "data": {
      "application/vnd.microsoft.datawrangler.viewer.v0+json": {
       "columns": [
        {
         "name": "index",
         "rawType": "int64",
         "type": "integer"
        },
        {
         "name": "TV",
         "rawType": "float64",
         "type": "float"
        },
        {
         "name": "Radio",
         "rawType": "float64",
         "type": "float"
        },
        {
         "name": "Newspaper",
         "rawType": "float64",
         "type": "float"
        },
        {
         "name": "Sales",
         "rawType": "float64",
         "type": "float"
        }
       ],
       "ref": "833a9cf9-3dc0-42a0-ad28-d6dea1c2fc4d",
       "rows": [
        [
         "0",
         "230.1",
         "37.8",
         "69.2",
         "22.1"
        ],
        [
         "1",
         "44.5",
         "39.3",
         "45.1",
         "10.4"
        ],
        [
         "2",
         "17.2",
         "45.9",
         "69.3",
         "12.0"
        ],
        [
         "3",
         "151.5",
         "41.3",
         "58.5",
         "16.5"
        ],
        [
         "4",
         "180.8",
         "10.8",
         "58.4",
         "17.9"
        ],
        [
         "5",
         "8.7",
         "48.9",
         "75.0",
         "7.2"
        ],
        [
         "6",
         "57.5",
         "32.8",
         "23.5",
         "11.8"
        ],
        [
         "7",
         "120.2",
         "19.6",
         "11.6",
         "13.2"
        ],
        [
         "8",
         "8.6",
         "2.1",
         "1.0",
         "4.8"
        ],
        [
         "9",
         "199.8",
         "2.6",
         "21.2",
         "15.6"
        ],
        [
         "10",
         "66.1",
         "5.8",
         "24.2",
         "12.6"
        ],
        [
         "11",
         "214.7",
         "24.0",
         "4.0",
         "17.4"
        ],
        [
         "12",
         "23.8",
         "35.1",
         "65.9",
         "9.2"
        ],
        [
         "13",
         "97.5",
         "7.6",
         "7.2",
         "13.7"
        ],
        [
         "14",
         "204.1",
         "32.9",
         "46.0",
         "19.0"
        ],
        [
         "15",
         "195.4",
         "47.7",
         "52.9",
         "22.4"
        ],
        [
         "16",
         "67.8",
         "36.6",
         "114.0",
         "12.5"
        ],
        [
         "17",
         "281.4",
         "39.6",
         "55.8",
         "24.4"
        ],
        [
         "18",
         "69.2",
         "20.5",
         "18.3",
         "11.3"
        ],
        [
         "19",
         "147.3",
         "23.9",
         "19.1",
         "14.6"
        ],
        [
         "20",
         "218.4",
         "27.7",
         "53.4",
         "18.0"
        ],
        [
         "21",
         "237.4",
         "5.1",
         "23.5",
         "17.5"
        ],
        [
         "22",
         "13.2",
         "15.9",
         "49.6",
         "5.6"
        ],
        [
         "23",
         "228.3",
         "16.9",
         "26.2",
         "20.5"
        ],
        [
         "24",
         "62.3",
         "12.6",
         "18.3",
         "9.7"
        ],
        [
         "25",
         "262.9",
         "3.5",
         "19.5",
         "17.0"
        ],
        [
         "26",
         "142.9",
         "29.3",
         "12.6",
         "15.0"
        ],
        [
         "27",
         "240.1",
         "16.7",
         "22.9",
         "20.9"
        ],
        [
         "28",
         "248.8",
         "27.1",
         "22.9",
         "18.9"
        ],
        [
         "29",
         "70.6",
         "16.0",
         "40.8",
         "10.5"
        ],
        [
         "30",
         "292.9",
         "28.3",
         "43.2",
         "21.4"
        ],
        [
         "31",
         "112.9",
         "17.4",
         "38.6",
         "11.9"
        ],
        [
         "32",
         "97.2",
         "1.5",
         "30.0",
         "13.2"
        ],
        [
         "33",
         "265.6",
         "20.0",
         "0.3",
         "17.4"
        ],
        [
         "34",
         "95.7",
         "1.4",
         "7.4",
         "11.9"
        ],
        [
         "35",
         "290.7",
         "4.1",
         "8.5",
         "17.8"
        ],
        [
         "36",
         "266.9",
         "43.8",
         "5.0",
         "25.4"
        ],
        [
         "37",
         "74.7",
         "49.4",
         "45.7",
         "14.7"
        ],
        [
         "38",
         "43.1",
         "26.7",
         "35.1",
         "10.1"
        ],
        [
         "39",
         "228.0",
         "37.7",
         "32.0",
         "21.5"
        ],
        [
         "40",
         "202.5",
         "22.3",
         "31.6",
         "16.6"
        ],
        [
         "41",
         "177.0",
         "33.4",
         "38.7",
         "17.1"
        ],
        [
         "42",
         "293.6",
         "27.7",
         "1.8",
         "20.7"
        ],
        [
         "43",
         "206.9",
         "8.4",
         "26.4",
         "17.9"
        ],
        [
         "44",
         "25.1",
         "25.7",
         "43.3",
         "8.5"
        ],
        [
         "45",
         "175.1",
         "22.5",
         "31.5",
         "16.1"
        ],
        [
         "46",
         "89.7",
         "9.9",
         "35.7",
         "10.6"
        ],
        [
         "47",
         "239.9",
         "41.5",
         "18.5",
         "23.2"
        ],
        [
         "48",
         "227.2",
         "15.8",
         "49.9",
         "19.8"
        ],
        [
         "49",
         "66.9",
         "11.7",
         "36.8",
         "9.7"
        ]
       ],
       "shape": {
        "columns": 4,
        "rows": 200
       }
      },
      "text/html": [
       "<div>\n",
       "<style scoped>\n",
       "    .dataframe tbody tr th:only-of-type {\n",
       "        vertical-align: middle;\n",
       "    }\n",
       "\n",
       "    .dataframe tbody tr th {\n",
       "        vertical-align: top;\n",
       "    }\n",
       "\n",
       "    .dataframe thead th {\n",
       "        text-align: right;\n",
       "    }\n",
       "</style>\n",
       "<table border=\"1\" class=\"dataframe\">\n",
       "  <thead>\n",
       "    <tr style=\"text-align: right;\">\n",
       "      <th></th>\n",
       "      <th>TV</th>\n",
       "      <th>Radio</th>\n",
       "      <th>Newspaper</th>\n",
       "      <th>Sales</th>\n",
       "    </tr>\n",
       "  </thead>\n",
       "  <tbody>\n",
       "    <tr>\n",
       "      <th>0</th>\n",
       "      <td>230.1</td>\n",
       "      <td>37.8</td>\n",
       "      <td>69.2</td>\n",
       "      <td>22.1</td>\n",
       "    </tr>\n",
       "    <tr>\n",
       "      <th>1</th>\n",
       "      <td>44.5</td>\n",
       "      <td>39.3</td>\n",
       "      <td>45.1</td>\n",
       "      <td>10.4</td>\n",
       "    </tr>\n",
       "    <tr>\n",
       "      <th>2</th>\n",
       "      <td>17.2</td>\n",
       "      <td>45.9</td>\n",
       "      <td>69.3</td>\n",
       "      <td>12.0</td>\n",
       "    </tr>\n",
       "    <tr>\n",
       "      <th>3</th>\n",
       "      <td>151.5</td>\n",
       "      <td>41.3</td>\n",
       "      <td>58.5</td>\n",
       "      <td>16.5</td>\n",
       "    </tr>\n",
       "    <tr>\n",
       "      <th>4</th>\n",
       "      <td>180.8</td>\n",
       "      <td>10.8</td>\n",
       "      <td>58.4</td>\n",
       "      <td>17.9</td>\n",
       "    </tr>\n",
       "    <tr>\n",
       "      <th>...</th>\n",
       "      <td>...</td>\n",
       "      <td>...</td>\n",
       "      <td>...</td>\n",
       "      <td>...</td>\n",
       "    </tr>\n",
       "    <tr>\n",
       "      <th>195</th>\n",
       "      <td>38.2</td>\n",
       "      <td>3.7</td>\n",
       "      <td>13.8</td>\n",
       "      <td>7.6</td>\n",
       "    </tr>\n",
       "    <tr>\n",
       "      <th>196</th>\n",
       "      <td>94.2</td>\n",
       "      <td>4.9</td>\n",
       "      <td>8.1</td>\n",
       "      <td>14.0</td>\n",
       "    </tr>\n",
       "    <tr>\n",
       "      <th>197</th>\n",
       "      <td>177.0</td>\n",
       "      <td>9.3</td>\n",
       "      <td>6.4</td>\n",
       "      <td>14.8</td>\n",
       "    </tr>\n",
       "    <tr>\n",
       "      <th>198</th>\n",
       "      <td>283.6</td>\n",
       "      <td>42.0</td>\n",
       "      <td>66.2</td>\n",
       "      <td>25.5</td>\n",
       "    </tr>\n",
       "    <tr>\n",
       "      <th>199</th>\n",
       "      <td>232.1</td>\n",
       "      <td>8.6</td>\n",
       "      <td>8.7</td>\n",
       "      <td>18.4</td>\n",
       "    </tr>\n",
       "  </tbody>\n",
       "</table>\n",
       "<p>200 rows × 4 columns</p>\n",
       "</div>"
      ],
      "text/plain": [
       "        TV  Radio  Newspaper  Sales\n",
       "0    230.1   37.8       69.2   22.1\n",
       "1     44.5   39.3       45.1   10.4\n",
       "2     17.2   45.9       69.3   12.0\n",
       "3    151.5   41.3       58.5   16.5\n",
       "4    180.8   10.8       58.4   17.9\n",
       "..     ...    ...        ...    ...\n",
       "195   38.2    3.7       13.8    7.6\n",
       "196   94.2    4.9        8.1   14.0\n",
       "197  177.0    9.3        6.4   14.8\n",
       "198  283.6   42.0       66.2   25.5\n",
       "199  232.1    8.6        8.7   18.4\n",
       "\n",
       "[200 rows x 4 columns]"
      ]
     },
     "execution_count": 21,
     "metadata": {},
     "output_type": "execute_result"
    }
   ],
   "source": [
    "df=pd.read_csv(r\"C:\\Users\\ankit\\OneDrive\\Desktop\\advertising.csv\")\n",
    "df"
   ]
  },
  {
   "cell_type": "code",
   "execution_count": 22,
   "id": "9b7c9186",
   "metadata": {},
   "outputs": [],
   "source": [
    "x = df[['Newspaper']]\n",
    "y = df['Sales']"
   ]
  },
  {
   "cell_type": "code",
   "execution_count": 23,
   "id": "6c4465d4",
   "metadata": {},
   "outputs": [],
   "source": [
    "x_train, x_test, y_train, y_test = train_test_split(x, y, test_size=0.3, random_state=42)"
   ]
  },
  {
   "cell_type": "code",
   "execution_count": 24,
   "id": "662171b9-ef4a-49cd-9357-d271772da875",
   "metadata": {},
   "outputs": [],
   "source": [
    "model = LinearRegression()"
   ]
  },
  {
   "cell_type": "code",
   "execution_count": 25,
   "id": "9734de48-5565-4742-8871-27c5caea0ee5",
   "metadata": {},
   "outputs": [
    {
     "data": {
      "text/html": [
       "<style>#sk-container-id-3 {\n",
       "  /* Definition of color scheme common for light and dark mode */\n",
       "  --sklearn-color-text: #000;\n",
       "  --sklearn-color-text-muted: #666;\n",
       "  --sklearn-color-line: gray;\n",
       "  /* Definition of color scheme for unfitted estimators */\n",
       "  --sklearn-color-unfitted-level-0: #fff5e6;\n",
       "  --sklearn-color-unfitted-level-1: #f6e4d2;\n",
       "  --sklearn-color-unfitted-level-2: #ffe0b3;\n",
       "  --sklearn-color-unfitted-level-3: chocolate;\n",
       "  /* Definition of color scheme for fitted estimators */\n",
       "  --sklearn-color-fitted-level-0: #f0f8ff;\n",
       "  --sklearn-color-fitted-level-1: #d4ebff;\n",
       "  --sklearn-color-fitted-level-2: #b3dbfd;\n",
       "  --sklearn-color-fitted-level-3: cornflowerblue;\n",
       "\n",
       "  /* Specific color for light theme */\n",
       "  --sklearn-color-text-on-default-background: var(--sg-text-color, var(--theme-code-foreground, var(--jp-content-font-color1, black)));\n",
       "  --sklearn-color-background: var(--sg-background-color, var(--theme-background, var(--jp-layout-color0, white)));\n",
       "  --sklearn-color-border-box: var(--sg-text-color, var(--theme-code-foreground, var(--jp-content-font-color1, black)));\n",
       "  --sklearn-color-icon: #696969;\n",
       "\n",
       "  @media (prefers-color-scheme: dark) {\n",
       "    /* Redefinition of color scheme for dark theme */\n",
       "    --sklearn-color-text-on-default-background: var(--sg-text-color, var(--theme-code-foreground, var(--jp-content-font-color1, white)));\n",
       "    --sklearn-color-background: var(--sg-background-color, var(--theme-background, var(--jp-layout-color0, #111)));\n",
       "    --sklearn-color-border-box: var(--sg-text-color, var(--theme-code-foreground, var(--jp-content-font-color1, white)));\n",
       "    --sklearn-color-icon: #878787;\n",
       "  }\n",
       "}\n",
       "\n",
       "#sk-container-id-3 {\n",
       "  color: var(--sklearn-color-text);\n",
       "}\n",
       "\n",
       "#sk-container-id-3 pre {\n",
       "  padding: 0;\n",
       "}\n",
       "\n",
       "#sk-container-id-3 input.sk-hidden--visually {\n",
       "  border: 0;\n",
       "  clip: rect(1px 1px 1px 1px);\n",
       "  clip: rect(1px, 1px, 1px, 1px);\n",
       "  height: 1px;\n",
       "  margin: -1px;\n",
       "  overflow: hidden;\n",
       "  padding: 0;\n",
       "  position: absolute;\n",
       "  width: 1px;\n",
       "}\n",
       "\n",
       "#sk-container-id-3 div.sk-dashed-wrapped {\n",
       "  border: 1px dashed var(--sklearn-color-line);\n",
       "  margin: 0 0.4em 0.5em 0.4em;\n",
       "  box-sizing: border-box;\n",
       "  padding-bottom: 0.4em;\n",
       "  background-color: var(--sklearn-color-background);\n",
       "}\n",
       "\n",
       "#sk-container-id-3 div.sk-container {\n",
       "  /* jupyter's `normalize.less` sets `[hidden] { display: none; }`\n",
       "     but bootstrap.min.css set `[hidden] { display: none !important; }`\n",
       "     so we also need the `!important` here to be able to override the\n",
       "     default hidden behavior on the sphinx rendered scikit-learn.org.\n",
       "     See: https://github.com/scikit-learn/scikit-learn/issues/21755 */\n",
       "  display: inline-block !important;\n",
       "  position: relative;\n",
       "}\n",
       "\n",
       "#sk-container-id-3 div.sk-text-repr-fallback {\n",
       "  display: none;\n",
       "}\n",
       "\n",
       "div.sk-parallel-item,\n",
       "div.sk-serial,\n",
       "div.sk-item {\n",
       "  /* draw centered vertical line to link estimators */\n",
       "  background-image: linear-gradient(var(--sklearn-color-text-on-default-background), var(--sklearn-color-text-on-default-background));\n",
       "  background-size: 2px 100%;\n",
       "  background-repeat: no-repeat;\n",
       "  background-position: center center;\n",
       "}\n",
       "\n",
       "/* Parallel-specific style estimator block */\n",
       "\n",
       "#sk-container-id-3 div.sk-parallel-item::after {\n",
       "  content: \"\";\n",
       "  width: 100%;\n",
       "  border-bottom: 2px solid var(--sklearn-color-text-on-default-background);\n",
       "  flex-grow: 1;\n",
       "}\n",
       "\n",
       "#sk-container-id-3 div.sk-parallel {\n",
       "  display: flex;\n",
       "  align-items: stretch;\n",
       "  justify-content: center;\n",
       "  background-color: var(--sklearn-color-background);\n",
       "  position: relative;\n",
       "}\n",
       "\n",
       "#sk-container-id-3 div.sk-parallel-item {\n",
       "  display: flex;\n",
       "  flex-direction: column;\n",
       "}\n",
       "\n",
       "#sk-container-id-3 div.sk-parallel-item:first-child::after {\n",
       "  align-self: flex-end;\n",
       "  width: 50%;\n",
       "}\n",
       "\n",
       "#sk-container-id-3 div.sk-parallel-item:last-child::after {\n",
       "  align-self: flex-start;\n",
       "  width: 50%;\n",
       "}\n",
       "\n",
       "#sk-container-id-3 div.sk-parallel-item:only-child::after {\n",
       "  width: 0;\n",
       "}\n",
       "\n",
       "/* Serial-specific style estimator block */\n",
       "\n",
       "#sk-container-id-3 div.sk-serial {\n",
       "  display: flex;\n",
       "  flex-direction: column;\n",
       "  align-items: center;\n",
       "  background-color: var(--sklearn-color-background);\n",
       "  padding-right: 1em;\n",
       "  padding-left: 1em;\n",
       "}\n",
       "\n",
       "\n",
       "/* Toggleable style: style used for estimator/Pipeline/ColumnTransformer box that is\n",
       "clickable and can be expanded/collapsed.\n",
       "- Pipeline and ColumnTransformer use this feature and define the default style\n",
       "- Estimators will overwrite some part of the style using the `sk-estimator` class\n",
       "*/\n",
       "\n",
       "/* Pipeline and ColumnTransformer style (default) */\n",
       "\n",
       "#sk-container-id-3 div.sk-toggleable {\n",
       "  /* Default theme specific background. It is overwritten whether we have a\n",
       "  specific estimator or a Pipeline/ColumnTransformer */\n",
       "  background-color: var(--sklearn-color-background);\n",
       "}\n",
       "\n",
       "/* Toggleable label */\n",
       "#sk-container-id-3 label.sk-toggleable__label {\n",
       "  cursor: pointer;\n",
       "  display: flex;\n",
       "  width: 100%;\n",
       "  margin-bottom: 0;\n",
       "  padding: 0.5em;\n",
       "  box-sizing: border-box;\n",
       "  text-align: center;\n",
       "  align-items: start;\n",
       "  justify-content: space-between;\n",
       "  gap: 0.5em;\n",
       "}\n",
       "\n",
       "#sk-container-id-3 label.sk-toggleable__label .caption {\n",
       "  font-size: 0.6rem;\n",
       "  font-weight: lighter;\n",
       "  color: var(--sklearn-color-text-muted);\n",
       "}\n",
       "\n",
       "#sk-container-id-3 label.sk-toggleable__label-arrow:before {\n",
       "  /* Arrow on the left of the label */\n",
       "  content: \"▸\";\n",
       "  float: left;\n",
       "  margin-right: 0.25em;\n",
       "  color: var(--sklearn-color-icon);\n",
       "}\n",
       "\n",
       "#sk-container-id-3 label.sk-toggleable__label-arrow:hover:before {\n",
       "  color: var(--sklearn-color-text);\n",
       "}\n",
       "\n",
       "/* Toggleable content - dropdown */\n",
       "\n",
       "#sk-container-id-3 div.sk-toggleable__content {\n",
       "  max-height: 0;\n",
       "  max-width: 0;\n",
       "  overflow: hidden;\n",
       "  text-align: left;\n",
       "  /* unfitted */\n",
       "  background-color: var(--sklearn-color-unfitted-level-0);\n",
       "}\n",
       "\n",
       "#sk-container-id-3 div.sk-toggleable__content.fitted {\n",
       "  /* fitted */\n",
       "  background-color: var(--sklearn-color-fitted-level-0);\n",
       "}\n",
       "\n",
       "#sk-container-id-3 div.sk-toggleable__content pre {\n",
       "  margin: 0.2em;\n",
       "  border-radius: 0.25em;\n",
       "  color: var(--sklearn-color-text);\n",
       "  /* unfitted */\n",
       "  background-color: var(--sklearn-color-unfitted-level-0);\n",
       "}\n",
       "\n",
       "#sk-container-id-3 div.sk-toggleable__content.fitted pre {\n",
       "  /* unfitted */\n",
       "  background-color: var(--sklearn-color-fitted-level-0);\n",
       "}\n",
       "\n",
       "#sk-container-id-3 input.sk-toggleable__control:checked~div.sk-toggleable__content {\n",
       "  /* Expand drop-down */\n",
       "  max-height: 200px;\n",
       "  max-width: 100%;\n",
       "  overflow: auto;\n",
       "}\n",
       "\n",
       "#sk-container-id-3 input.sk-toggleable__control:checked~label.sk-toggleable__label-arrow:before {\n",
       "  content: \"▾\";\n",
       "}\n",
       "\n",
       "/* Pipeline/ColumnTransformer-specific style */\n",
       "\n",
       "#sk-container-id-3 div.sk-label input.sk-toggleable__control:checked~label.sk-toggleable__label {\n",
       "  color: var(--sklearn-color-text);\n",
       "  background-color: var(--sklearn-color-unfitted-level-2);\n",
       "}\n",
       "\n",
       "#sk-container-id-3 div.sk-label.fitted input.sk-toggleable__control:checked~label.sk-toggleable__label {\n",
       "  background-color: var(--sklearn-color-fitted-level-2);\n",
       "}\n",
       "\n",
       "/* Estimator-specific style */\n",
       "\n",
       "/* Colorize estimator box */\n",
       "#sk-container-id-3 div.sk-estimator input.sk-toggleable__control:checked~label.sk-toggleable__label {\n",
       "  /* unfitted */\n",
       "  background-color: var(--sklearn-color-unfitted-level-2);\n",
       "}\n",
       "\n",
       "#sk-container-id-3 div.sk-estimator.fitted input.sk-toggleable__control:checked~label.sk-toggleable__label {\n",
       "  /* fitted */\n",
       "  background-color: var(--sklearn-color-fitted-level-2);\n",
       "}\n",
       "\n",
       "#sk-container-id-3 div.sk-label label.sk-toggleable__label,\n",
       "#sk-container-id-3 div.sk-label label {\n",
       "  /* The background is the default theme color */\n",
       "  color: var(--sklearn-color-text-on-default-background);\n",
       "}\n",
       "\n",
       "/* On hover, darken the color of the background */\n",
       "#sk-container-id-3 div.sk-label:hover label.sk-toggleable__label {\n",
       "  color: var(--sklearn-color-text);\n",
       "  background-color: var(--sklearn-color-unfitted-level-2);\n",
       "}\n",
       "\n",
       "/* Label box, darken color on hover, fitted */\n",
       "#sk-container-id-3 div.sk-label.fitted:hover label.sk-toggleable__label.fitted {\n",
       "  color: var(--sklearn-color-text);\n",
       "  background-color: var(--sklearn-color-fitted-level-2);\n",
       "}\n",
       "\n",
       "/* Estimator label */\n",
       "\n",
       "#sk-container-id-3 div.sk-label label {\n",
       "  font-family: monospace;\n",
       "  font-weight: bold;\n",
       "  display: inline-block;\n",
       "  line-height: 1.2em;\n",
       "}\n",
       "\n",
       "#sk-container-id-3 div.sk-label-container {\n",
       "  text-align: center;\n",
       "}\n",
       "\n",
       "/* Estimator-specific */\n",
       "#sk-container-id-3 div.sk-estimator {\n",
       "  font-family: monospace;\n",
       "  border: 1px dotted var(--sklearn-color-border-box);\n",
       "  border-radius: 0.25em;\n",
       "  box-sizing: border-box;\n",
       "  margin-bottom: 0.5em;\n",
       "  /* unfitted */\n",
       "  background-color: var(--sklearn-color-unfitted-level-0);\n",
       "}\n",
       "\n",
       "#sk-container-id-3 div.sk-estimator.fitted {\n",
       "  /* fitted */\n",
       "  background-color: var(--sklearn-color-fitted-level-0);\n",
       "}\n",
       "\n",
       "/* on hover */\n",
       "#sk-container-id-3 div.sk-estimator:hover {\n",
       "  /* unfitted */\n",
       "  background-color: var(--sklearn-color-unfitted-level-2);\n",
       "}\n",
       "\n",
       "#sk-container-id-3 div.sk-estimator.fitted:hover {\n",
       "  /* fitted */\n",
       "  background-color: var(--sklearn-color-fitted-level-2);\n",
       "}\n",
       "\n",
       "/* Specification for estimator info (e.g. \"i\" and \"?\") */\n",
       "\n",
       "/* Common style for \"i\" and \"?\" */\n",
       "\n",
       ".sk-estimator-doc-link,\n",
       "a:link.sk-estimator-doc-link,\n",
       "a:visited.sk-estimator-doc-link {\n",
       "  float: right;\n",
       "  font-size: smaller;\n",
       "  line-height: 1em;\n",
       "  font-family: monospace;\n",
       "  background-color: var(--sklearn-color-background);\n",
       "  border-radius: 1em;\n",
       "  height: 1em;\n",
       "  width: 1em;\n",
       "  text-decoration: none !important;\n",
       "  margin-left: 0.5em;\n",
       "  text-align: center;\n",
       "  /* unfitted */\n",
       "  border: var(--sklearn-color-unfitted-level-1) 1pt solid;\n",
       "  color: var(--sklearn-color-unfitted-level-1);\n",
       "}\n",
       "\n",
       ".sk-estimator-doc-link.fitted,\n",
       "a:link.sk-estimator-doc-link.fitted,\n",
       "a:visited.sk-estimator-doc-link.fitted {\n",
       "  /* fitted */\n",
       "  border: var(--sklearn-color-fitted-level-1) 1pt solid;\n",
       "  color: var(--sklearn-color-fitted-level-1);\n",
       "}\n",
       "\n",
       "/* On hover */\n",
       "div.sk-estimator:hover .sk-estimator-doc-link:hover,\n",
       ".sk-estimator-doc-link:hover,\n",
       "div.sk-label-container:hover .sk-estimator-doc-link:hover,\n",
       ".sk-estimator-doc-link:hover {\n",
       "  /* unfitted */\n",
       "  background-color: var(--sklearn-color-unfitted-level-3);\n",
       "  color: var(--sklearn-color-background);\n",
       "  text-decoration: none;\n",
       "}\n",
       "\n",
       "div.sk-estimator.fitted:hover .sk-estimator-doc-link.fitted:hover,\n",
       ".sk-estimator-doc-link.fitted:hover,\n",
       "div.sk-label-container:hover .sk-estimator-doc-link.fitted:hover,\n",
       ".sk-estimator-doc-link.fitted:hover {\n",
       "  /* fitted */\n",
       "  background-color: var(--sklearn-color-fitted-level-3);\n",
       "  color: var(--sklearn-color-background);\n",
       "  text-decoration: none;\n",
       "}\n",
       "\n",
       "/* Span, style for the box shown on hovering the info icon */\n",
       ".sk-estimator-doc-link span {\n",
       "  display: none;\n",
       "  z-index: 9999;\n",
       "  position: relative;\n",
       "  font-weight: normal;\n",
       "  right: .2ex;\n",
       "  padding: .5ex;\n",
       "  margin: .5ex;\n",
       "  width: min-content;\n",
       "  min-width: 20ex;\n",
       "  max-width: 50ex;\n",
       "  color: var(--sklearn-color-text);\n",
       "  box-shadow: 2pt 2pt 4pt #999;\n",
       "  /* unfitted */\n",
       "  background: var(--sklearn-color-unfitted-level-0);\n",
       "  border: .5pt solid var(--sklearn-color-unfitted-level-3);\n",
       "}\n",
       "\n",
       ".sk-estimator-doc-link.fitted span {\n",
       "  /* fitted */\n",
       "  background: var(--sklearn-color-fitted-level-0);\n",
       "  border: var(--sklearn-color-fitted-level-3);\n",
       "}\n",
       "\n",
       ".sk-estimator-doc-link:hover span {\n",
       "  display: block;\n",
       "}\n",
       "\n",
       "/* \"?\"-specific style due to the `<a>` HTML tag */\n",
       "\n",
       "#sk-container-id-3 a.estimator_doc_link {\n",
       "  float: right;\n",
       "  font-size: 1rem;\n",
       "  line-height: 1em;\n",
       "  font-family: monospace;\n",
       "  background-color: var(--sklearn-color-background);\n",
       "  border-radius: 1rem;\n",
       "  height: 1rem;\n",
       "  width: 1rem;\n",
       "  text-decoration: none;\n",
       "  /* unfitted */\n",
       "  color: var(--sklearn-color-unfitted-level-1);\n",
       "  border: var(--sklearn-color-unfitted-level-1) 1pt solid;\n",
       "}\n",
       "\n",
       "#sk-container-id-3 a.estimator_doc_link.fitted {\n",
       "  /* fitted */\n",
       "  border: var(--sklearn-color-fitted-level-1) 1pt solid;\n",
       "  color: var(--sklearn-color-fitted-level-1);\n",
       "}\n",
       "\n",
       "/* On hover */\n",
       "#sk-container-id-3 a.estimator_doc_link:hover {\n",
       "  /* unfitted */\n",
       "  background-color: var(--sklearn-color-unfitted-level-3);\n",
       "  color: var(--sklearn-color-background);\n",
       "  text-decoration: none;\n",
       "}\n",
       "\n",
       "#sk-container-id-3 a.estimator_doc_link.fitted:hover {\n",
       "  /* fitted */\n",
       "  background-color: var(--sklearn-color-fitted-level-3);\n",
       "}\n",
       "</style><div id=\"sk-container-id-3\" class=\"sk-top-container\"><div class=\"sk-text-repr-fallback\"><pre>LinearRegression()</pre><b>In a Jupyter environment, please rerun this cell to show the HTML representation or trust the notebook. <br />On GitHub, the HTML representation is unable to render, please try loading this page with nbviewer.org.</b></div><div class=\"sk-container\" hidden><div class=\"sk-item\"><div class=\"sk-estimator fitted sk-toggleable\"><input class=\"sk-toggleable__control sk-hidden--visually\" id=\"sk-estimator-id-3\" type=\"checkbox\" checked><label for=\"sk-estimator-id-3\" class=\"sk-toggleable__label fitted sk-toggleable__label-arrow\"><div><div>LinearRegression</div></div><div><a class=\"sk-estimator-doc-link fitted\" rel=\"noreferrer\" target=\"_blank\" href=\"https://scikit-learn.org/1.6/modules/generated/sklearn.linear_model.LinearRegression.html\">?<span>Documentation for LinearRegression</span></a><span class=\"sk-estimator-doc-link fitted\">i<span>Fitted</span></span></div></label><div class=\"sk-toggleable__content fitted\"><pre>LinearRegression()</pre></div> </div></div></div></div>"
      ],
      "text/plain": [
       "LinearRegression()"
      ]
     },
     "execution_count": 25,
     "metadata": {},
     "output_type": "execute_result"
    }
   ],
   "source": [
    "model.fit(x_train, y_train)"
   ]
  },
  {
   "cell_type": "code",
   "execution_count": 26,
   "id": "85b882e6",
   "metadata": {},
   "outputs": [],
   "source": [
    "y_pred = model.predict(x_test)"
   ]
  },
  {
   "cell_type": "code",
   "execution_count": 27,
   "id": "faad80fe",
   "metadata": {},
   "outputs": [
    {
     "data": {
      "application/vnd.plotly.v1+json": {
       "config": {
        "plotlyServerURL": "https://plot.ly"
       },
       "data": [
        {
         "hovertemplate": "Newspaper Advertising Budget=%{x}<br>Sales=%{y}<extra></extra>",
         "legendgroup": "",
         "marker": {
          "color": "#636efa",
          "symbol": "circle"
         },
         "mode": "markers",
         "name": "",
         "orientation": "v",
         "showlegend": false,
         "type": "scatter",
         "x": {
          "bdata": "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",
          "dtype": "f8"
         },
         "xaxis": "x",
         "y": {
          "bdata": "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",
          "dtype": "f8"
         },
         "yaxis": "y"
        },
        {
         "hovertemplate": "Newspaper Advertising Budget=%{x}<br>Predicted Sales=%{y}<extra></extra>",
         "legendgroup": "",
         "line": {
          "color": "#636efa",
          "dash": "solid"
         },
         "marker": {
          "symbol": "circle"
         },
         "mode": "lines",
         "name": "",
         "orientation": "v",
         "showlegend": false,
         "type": "scatter",
         "x": {
          "bdata": "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",
          "dtype": "f8"
         },
         "xaxis": "x",
         "y": {
          "bdata": "HmF0PGhUMUBG+Nr0BV4wQBTzhPRtVTFAL1+HTQTnMEA4zXaV/uUwQOpyNfCzjzFA+KC/TWUCL0AD7lcuFA8uQBEOn8BXNi1At2bFOl7TLkBvnKdetRAvQMpDgeSucy1AX5BRgqsyMUBbwaXoHLUtQO8ZcG05ZzBAUHHnCcStMEAY0HNZah4zQDb6x+NpyzBA61QEhxKYLkBQdA0IbqguQB9LOqLgsjBA+KC/TWUCL0CRoMRPB4wwQOpqPiGaOS9A61QEhxKYLkACBJLIm7AuQEBVo4+GIy5AbMn4rCD2LkBsyfisIPYuQOlzEgoQMjBA/yKgS5lKMEC/6KU4khswQAfAKcZMhy9AmhK3rwcoLUA0CejIM7ktQF6UVJqxzy1AB6vMRSGILUAMZD5FKGQwQCfowxyU7y9Ago7AiDGwL0DQ/jvIA6gvQLV6tvCXHDBAdi2oQbNGLUDDsoABsT0vQPa0sAOfSzBA49oaWPilL0Cyv4q92PsvQMScRmcpnC5Ac1b2dxiPMEBupXtHKwkwQIg0Huxa5S9AGLT8I4FrLUBenEtpyyUwQBuDqL0P6TBAvvboAwBnLkCd7H8WWvYwQK7fdVoyODBANvLQFFB1LkAWxxDAXhIwQMKzXRsN4C1AkK4HG3XXLkCgtBH7KsAwQBT2qvIXUC9AcnAzKqbNLUDdNL30znAvQCXqfVBMNC1AKL0sAuFOLUAT94cMdPItQHgWkY3PAi5AKNKJggxOL0C1erbwlxwwQLwiXTgPqi9AKbxP6ISsLkAKk9h34aEvQN8IScC/LS5AcY2HeesiMkAYsx8KJckuQAmUtZE9RC5Ar9d+ixjiLUBFETuNN/ouQOHxMQzc6S5AZDeM/zAKMEAgQma5arovQMWbaU3N+S9AJBUVa//UL0BybDASoDAxQKsaCnQLaS5AZiuSGBEXMUCFUyxvWH8xQOLj7kBunjBAwrNdGw3gLUC/9Qvqo8QvQP442uUg7DBA8A12hhl0MUCL8m8dxAAuQFBx5wnErTBAWO72NoiaLUAbhs67ueMuQPW/zdBinDBA+YdftTNmMEB9xOW/Eo4wQBIf+Sh9mDJAkK4HG3XXLkA5xX/G5I8uQM0WMJZDji1A/jja5SDsMEBBVMZ1KoEvQDI1XP1C/C5AX5N3gFUtL0CmXnJ2WpItQPH3O+yR0jBAMjVc/UL8LkABBW/i91ItQLKqLT2t/C1AmxD9e0/jL0BjTcaZuKswQF+Td4BVLS9AlGt8MoJQLkBRZe0ipLoxQOHxMQzc6S5A2z2R3URpMEBDMEkQNZQwQPmKhbPdYC5AZw1hr28fLkA447AvhocxQCX/2tB3My9AL1RqgECWMEDWjzyrAd4tQGUkeGNTYy1ACZGPk5NJMEA33JZ6yNMtQBP/ftuNSDBAO5kLktVMLUBG+Nr0BV4wQHzaH1qaLzFAXpRUmrHPLUDCs10bDeAtQLo2Tu5I8zBAP2vdKQ7FLkCJCYfRp0QtQAbBBuCoKS5Ar96YQNaVMUAD6zEwahQwQK/s2wtE4S9Aop7XYKMeMED9R/rK6tktQDfclnrI0y1AlGhWNNhVMEDJWbt+NhUuQCyP/pkZxy5AWsmctzYLMEDofi/X04IwQAmUtZE9RC5AFscQwF4SMECc+5/7I+QtQH+mtFZxli1AOcJZyDqVMEBcwMjOwBIvQD2K66wLXzBAiDQe7FrlL0B/uxHXnJUvQK7qkif2iDBAX5N3gFUtL0A0CejIM7ktQLk6UQZPkC1AMFONZuTzMUBp9kn7i9suQBXgcFiQri5Ahj3y1NDdMED3oZxnwaQtQNh4Jfcdmi5AZxVYfol1MEDogVXVfX0uQBqd5W+dJy5A3whJwL8tLkCHJ7g6STwwQGYjm0n3wC5AEwzljJ/xL0DR6AEufAYvQHRZHHbCiS5AhUwSuprLLUABGsxiI1IvQEFUxnUqgS9AITQj7vxuMUAHwCnGTIcvQO4nszinsi5AnPrC4cdBL0D/MOMWB5YuQATYHZSMbS1AC32e3VkAL0BrytXGfJgtQEUSGKeTnC1A0P47yAOoL0AYtPwjgWstQEUSGKeTnC1AVwQx0Q88LkCsBNDZg8ctQPehnGfBpC1AQkaDqrw1MUA33JZ6yNMtQA==",
          "dtype": "f8"
         },
         "yaxis": "y"
        }
       ],
       "layout": {
        "legend": {
         "tracegroupgap": 0
        },
        "template": {
         "data": {
          "bar": [
           {
            "error_x": {
             "color": "#2a3f5f"
            },
            "error_y": {
             "color": "#2a3f5f"
            },
            "marker": {
             "line": {
              "color": "#E5ECF6",
              "width": 0.5
             },
             "pattern": {
              "fillmode": "overlay",
              "size": 10,
              "solidity": 0.2
             }
            },
            "type": "bar"
           }
          ],
          "barpolar": [
           {
            "marker": {
             "line": {
              "color": "#E5ECF6",
              "width": 0.5
             },
             "pattern": {
              "fillmode": "overlay",
              "size": 10,
              "solidity": 0.2
             }
            },
            "type": "barpolar"
           }
          ],
          "carpet": [
           {
            "aaxis": {
             "endlinecolor": "#2a3f5f",
             "gridcolor": "white",
             "linecolor": "white",
             "minorgridcolor": "white",
             "startlinecolor": "#2a3f5f"
            },
            "baxis": {
             "endlinecolor": "#2a3f5f",
             "gridcolor": "white",
             "linecolor": "white",
             "minorgridcolor": "white",
             "startlinecolor": "#2a3f5f"
            },
            "type": "carpet"
           }
          ],
          "choropleth": [
           {
            "colorbar": {
             "outlinewidth": 0,
             "ticks": ""
            },
            "type": "choropleth"
           }
          ],
          "contour": [
           {
            "colorbar": {
             "outlinewidth": 0,
             "ticks": ""
            },
            "colorscale": [
             [
              0,
              "#0d0887"
             ],
             [
              0.1111111111111111,
              "#46039f"
             ],
             [
              0.2222222222222222,
              "#7201a8"
             ],
             [
              0.3333333333333333,
              "#9c179e"
             ],
             [
              0.4444444444444444,
              "#bd3786"
             ],
             [
              0.5555555555555556,
              "#d8576b"
             ],
             [
              0.6666666666666666,
              "#ed7953"
             ],
             [
              0.7777777777777778,
              "#fb9f3a"
             ],
             [
              0.8888888888888888,
              "#fdca26"
             ],
             [
              1,
              "#f0f921"
             ]
            ],
            "type": "contour"
           }
          ],
          "contourcarpet": [
           {
            "colorbar": {
             "outlinewidth": 0,
             "ticks": ""
            },
            "type": "contourcarpet"
           }
          ],
          "heatmap": [
           {
            "colorbar": {
             "outlinewidth": 0,
             "ticks": ""
            },
            "colorscale": [
             [
              0,
              "#0d0887"
             ],
             [
              0.1111111111111111,
              "#46039f"
             ],
             [
              0.2222222222222222,
              "#7201a8"
             ],
             [
              0.3333333333333333,
              "#9c179e"
             ],
             [
              0.4444444444444444,
              "#bd3786"
             ],
             [
              0.5555555555555556,
              "#d8576b"
             ],
             [
              0.6666666666666666,
              "#ed7953"
             ],
             [
              0.7777777777777778,
              "#fb9f3a"
             ],
             [
              0.8888888888888888,
              "#fdca26"
             ],
             [
              1,
              "#f0f921"
             ]
            ],
            "type": "heatmap"
           }
          ],
          "histogram": [
           {
            "marker": {
             "pattern": {
              "fillmode": "overlay",
              "size": 10,
              "solidity": 0.2
             }
            },
            "type": "histogram"
           }
          ],
          "histogram2d": [
           {
            "colorbar": {
             "outlinewidth": 0,
             "ticks": ""
            },
            "colorscale": [
             [
              0,
              "#0d0887"
             ],
             [
              0.1111111111111111,
              "#46039f"
             ],
             [
              0.2222222222222222,
              "#7201a8"
             ],
             [
              0.3333333333333333,
              "#9c179e"
             ],
             [
              0.4444444444444444,
              "#bd3786"
             ],
             [
              0.5555555555555556,
              "#d8576b"
             ],
             [
              0.6666666666666666,
              "#ed7953"
             ],
             [
              0.7777777777777778,
              "#fb9f3a"
             ],
             [
              0.8888888888888888,
              "#fdca26"
             ],
             [
              1,
              "#f0f921"
             ]
            ],
            "type": "histogram2d"
           }
          ],
          "histogram2dcontour": [
           {
            "colorbar": {
             "outlinewidth": 0,
             "ticks": ""
            },
            "colorscale": [
             [
              0,
              "#0d0887"
             ],
             [
              0.1111111111111111,
              "#46039f"
             ],
             [
              0.2222222222222222,
              "#7201a8"
             ],
             [
              0.3333333333333333,
              "#9c179e"
             ],
             [
              0.4444444444444444,
              "#bd3786"
             ],
             [
              0.5555555555555556,
              "#d8576b"
             ],
             [
              0.6666666666666666,
              "#ed7953"
             ],
             [
              0.7777777777777778,
              "#fb9f3a"
             ],
             [
              0.8888888888888888,
              "#fdca26"
             ],
             [
              1,
              "#f0f921"
             ]
            ],
            "type": "histogram2dcontour"
           }
          ],
          "mesh3d": [
           {
            "colorbar": {
             "outlinewidth": 0,
             "ticks": ""
            },
            "type": "mesh3d"
           }
          ],
          "parcoords": [
           {
            "line": {
             "colorbar": {
              "outlinewidth": 0,
              "ticks": ""
             }
            },
            "type": "parcoords"
           }
          ],
          "pie": [
           {
            "automargin": true,
            "type": "pie"
           }
          ],
          "scatter": [
           {
            "fillpattern": {
             "fillmode": "overlay",
             "size": 10,
             "solidity": 0.2
            },
            "type": "scatter"
           }
          ],
          "scatter3d": [
           {
            "line": {
             "colorbar": {
              "outlinewidth": 0,
              "ticks": ""
             }
            },
            "marker": {
             "colorbar": {
              "outlinewidth": 0,
              "ticks": ""
             }
            },
            "type": "scatter3d"
           }
          ],
          "scattercarpet": [
           {
            "marker": {
             "colorbar": {
              "outlinewidth": 0,
              "ticks": ""
             }
            },
            "type": "scattercarpet"
           }
          ],
          "scattergeo": [
           {
            "marker": {
             "colorbar": {
              "outlinewidth": 0,
              "ticks": ""
             }
            },
            "type": "scattergeo"
           }
          ],
          "scattergl": [
           {
            "marker": {
             "colorbar": {
              "outlinewidth": 0,
              "ticks": ""
             }
            },
            "type": "scattergl"
           }
          ],
          "scattermap": [
           {
            "marker": {
             "colorbar": {
              "outlinewidth": 0,
              "ticks": ""
             }
            },
            "type": "scattermap"
           }
          ],
          "scattermapbox": [
           {
            "marker": {
             "colorbar": {
              "outlinewidth": 0,
              "ticks": ""
             }
            },
            "type": "scattermapbox"
           }
          ],
          "scatterpolar": [
           {
            "marker": {
             "colorbar": {
              "outlinewidth": 0,
              "ticks": ""
             }
            },
            "type": "scatterpolar"
           }
          ],
          "scatterpolargl": [
           {
            "marker": {
             "colorbar": {
              "outlinewidth": 0,
              "ticks": ""
             }
            },
            "type": "scatterpolargl"
           }
          ],
          "scatterternary": [
           {
            "marker": {
             "colorbar": {
              "outlinewidth": 0,
              "ticks": ""
             }
            },
            "type": "scatterternary"
           }
          ],
          "surface": [
           {
            "colorbar": {
             "outlinewidth": 0,
             "ticks": ""
            },
            "colorscale": [
             [
              0,
              "#0d0887"
             ],
             [
              0.1111111111111111,
              "#46039f"
             ],
             [
              0.2222222222222222,
              "#7201a8"
             ],
             [
              0.3333333333333333,
              "#9c179e"
             ],
             [
              0.4444444444444444,
              "#bd3786"
             ],
             [
              0.5555555555555556,
              "#d8576b"
             ],
             [
              0.6666666666666666,
              "#ed7953"
             ],
             [
              0.7777777777777778,
              "#fb9f3a"
             ],
             [
              0.8888888888888888,
              "#fdca26"
             ],
             [
              1,
              "#f0f921"
             ]
            ],
            "type": "surface"
           }
          ],
          "table": [
           {
            "cells": {
             "fill": {
              "color": "#EBF0F8"
             },
             "line": {
              "color": "white"
             }
            },
            "header": {
             "fill": {
              "color": "#C8D4E3"
             },
             "line": {
              "color": "white"
             }
            },
            "type": "table"
           }
          ]
         },
         "layout": {
          "annotationdefaults": {
           "arrowcolor": "#2a3f5f",
           "arrowhead": 0,
           "arrowwidth": 1
          },
          "autotypenumbers": "strict",
          "coloraxis": {
           "colorbar": {
            "outlinewidth": 0,
            "ticks": ""
           }
          },
          "colorscale": {
           "diverging": [
            [
             0,
             "#8e0152"
            ],
            [
             0.1,
             "#c51b7d"
            ],
            [
             0.2,
             "#de77ae"
            ],
            [
             0.3,
             "#f1b6da"
            ],
            [
             0.4,
             "#fde0ef"
            ],
            [
             0.5,
             "#f7f7f7"
            ],
            [
             0.6,
             "#e6f5d0"
            ],
            [
             0.7,
             "#b8e186"
            ],
            [
             0.8,
             "#7fbc41"
            ],
            [
             0.9,
             "#4d9221"
            ],
            [
             1,
             "#276419"
            ]
           ],
           "sequential": [
            [
             0,
             "#0d0887"
            ],
            [
             0.1111111111111111,
             "#46039f"
            ],
            [
             0.2222222222222222,
             "#7201a8"
            ],
            [
             0.3333333333333333,
             "#9c179e"
            ],
            [
             0.4444444444444444,
             "#bd3786"
            ],
            [
             0.5555555555555556,
             "#d8576b"
            ],
            [
             0.6666666666666666,
             "#ed7953"
            ],
            [
             0.7777777777777778,
             "#fb9f3a"
            ],
            [
             0.8888888888888888,
             "#fdca26"
            ],
            [
             1,
             "#f0f921"
            ]
           ],
           "sequentialminus": [
            [
             0,
             "#0d0887"
            ],
            [
             0.1111111111111111,
             "#46039f"
            ],
            [
             0.2222222222222222,
             "#7201a8"
            ],
            [
             0.3333333333333333,
             "#9c179e"
            ],
            [
             0.4444444444444444,
             "#bd3786"
            ],
            [
             0.5555555555555556,
             "#d8576b"
            ],
            [
             0.6666666666666666,
             "#ed7953"
            ],
            [
             0.7777777777777778,
             "#fb9f3a"
            ],
            [
             0.8888888888888888,
             "#fdca26"
            ],
            [
             1,
             "#f0f921"
            ]
           ]
          },
          "colorway": [
           "#636efa",
           "#EF553B",
           "#00cc96",
           "#ab63fa",
           "#FFA15A",
           "#19d3f3",
           "#FF6692",
           "#B6E880",
           "#FF97FF",
           "#FECB52"
          ],
          "font": {
           "color": "#2a3f5f"
          },
          "geo": {
           "bgcolor": "white",
           "lakecolor": "white",
           "landcolor": "#E5ECF6",
           "showlakes": true,
           "showland": true,
           "subunitcolor": "white"
          },
          "hoverlabel": {
           "align": "left"
          },
          "hovermode": "closest",
          "mapbox": {
           "style": "light"
          },
          "paper_bgcolor": "white",
          "plot_bgcolor": "#E5ECF6",
          "polar": {
           "angularaxis": {
            "gridcolor": "white",
            "linecolor": "white",
            "ticks": ""
           },
           "bgcolor": "#E5ECF6",
           "radialaxis": {
            "gridcolor": "white",
            "linecolor": "white",
            "ticks": ""
           }
          },
          "scene": {
           "xaxis": {
            "backgroundcolor": "#E5ECF6",
            "gridcolor": "white",
            "gridwidth": 2,
            "linecolor": "white",
            "showbackground": true,
            "ticks": "",
            "zerolinecolor": "white"
           },
           "yaxis": {
            "backgroundcolor": "#E5ECF6",
            "gridcolor": "white",
            "gridwidth": 2,
            "linecolor": "white",
            "showbackground": true,
            "ticks": "",
            "zerolinecolor": "white"
           },
           "zaxis": {
            "backgroundcolor": "#E5ECF6",
            "gridcolor": "white",
            "gridwidth": 2,
            "linecolor": "white",
            "showbackground": true,
            "ticks": "",
            "zerolinecolor": "white"
           }
          },
          "shapedefaults": {
           "line": {
            "color": "#2a3f5f"
           }
          },
          "ternary": {
           "aaxis": {
            "gridcolor": "white",
            "linecolor": "white",
            "ticks": ""
           },
           "baxis": {
            "gridcolor": "white",
            "linecolor": "white",
            "ticks": ""
           },
           "bgcolor": "#E5ECF6",
           "caxis": {
            "gridcolor": "white",
            "linecolor": "white",
            "ticks": ""
           }
          },
          "title": {
           "x": 0.05
          },
          "xaxis": {
           "automargin": true,
           "gridcolor": "white",
           "linecolor": "white",
           "ticks": "",
           "title": {
            "standoff": 15
           },
           "zerolinecolor": "white",
           "zerolinewidth": 2
          },
          "yaxis": {
           "automargin": true,
           "gridcolor": "white",
           "linecolor": "white",
           "ticks": "",
           "title": {
            "standoff": 15
           },
           "zerolinecolor": "white",
           "zerolinewidth": 2
          }
         }
        },
        "title": {
         "text": "Newspaper Advertising vs Sales"
        },
        "xaxis": {
         "anchor": "y",
         "domain": [
          0,
          1
         ],
         "title": {
          "text": "Newspaper Advertising Budget"
         }
        },
        "yaxis": {
         "anchor": "x",
         "domain": [
          0,
          1
         ],
         "title": {
          "text": "Sales"
         }
        }
       }
      }
     },
     "metadata": {},
     "output_type": "display_data"
    }
   ],
   "source": [
    "regline = model.predict(df[['Newspaper']])\n",
    "\n",
    "fig = px.scatter(df, x='Newspaper', y='Sales', title='Newspaper Advertising vs Sales', labels={'Newspaper': 'Newspaper Advertising Budget', 'Sales': 'Sales'})\n",
    "fig.add_traces(\n",
    "    px.line(x=df['Newspaper'], y=regline.flatten(), labels={'x': 'Newspaper Advertising Budget', 'y': 'Predicted Sales'}).data\n",
    ")\n",
    "fig.show()"
   ]
  },
  {
   "cell_type": "code",
   "execution_count": 28,
   "id": "7ff2d444",
   "metadata": {},
   "outputs": [
    {
     "name": "stdout",
     "output_type": "stream",
     "text": [
      "Sales based on Newspaper Budgets 16.08\n"
     ]
    },
    {
     "name": "stderr",
     "output_type": "stream",
     "text": [
      "c:\\Users\\ankit\\AppData\\Local\\Programs\\Python\\Python313\\Lib\\site-packages\\sklearn\\utils\\validation.py:2739: UserWarning:\n",
      "\n",
      "X does not have valid feature names, but LinearRegression was fitted with feature names\n",
      "\n"
     ]
    }
   ],
   "source": [
    "print(f\"Sales based on Newspaper Budgets {model.predict([[37.8]])[0]:.2f}\")"
   ]
  },
  {
   "cell_type": "code",
   "execution_count": 29,
   "id": "04ad67d7",
   "metadata": {},
   "outputs": [
    {
     "name": "stdout",
     "output_type": "stream",
     "text": [
      "MAE: 4.8081\n",
      "MSE: 31.9888\n",
      "RMSE: 5.6559\n",
      "R2 Score: -0.1435\n",
      "Adjusted R2 Score: -0.1610\n"
     ]
    }
   ],
   "source": [
    "from sklearn.metrics import mean_absolute_error, mean_squared_error, r2_score\n",
    "\n",
    "# Calculate metrics\n",
    "mae = mean_absolute_error(y_test, y_pred)\n",
    "mse = mean_squared_error(y_test, y_pred)\n",
    "rmse = np.sqrt(mse)\n",
    "r2 = r2_score(y_test, y_pred)\n",
    "\n",
    "# Adjusted R2 Score\n",
    "n = df.shape[0]  # number of samples\n",
    "p = 3            # number of predictors (TV, Radio, Newspaper)\n",
    "adjusted_r2 = 1 - (1 - r2) * (n - 1) / (n - p - 1)\n",
    "\n",
    "print(f\"MAE: {mae:.4f}\")\n",
    "print(f\"MSE: {mse:.4f}\")\n",
    "print(f\"RMSE: {rmse:.4f}\")\n",
    "print(f\"R2 Score: {r2:.4f}\")\n",
    "print(f\"Adjusted R2 Score: {adjusted_r2:.4f}\")"
   ]
  },
  {
   "cell_type": "code",
   "execution_count": 30,
   "id": "1a9010fd",
   "metadata": {},
   "outputs": [
    {
     "name": "stdout",
     "output_type": "stream",
     "text": [
      "Predicted Sales based on TV: 37.8 is 16.08\n"
     ]
    },
    {
     "name": "stderr",
     "output_type": "stream",
     "text": [
      "c:\\Users\\ankit\\AppData\\Local\\Programs\\Python\\Python313\\Lib\\site-packages\\sklearn\\utils\\validation.py:2739: UserWarning:\n",
      "\n",
      "X does not have valid feature names, but LinearRegression was fitted with feature names\n",
      "\n"
     ]
    }
   ],
   "source": [
    "#Prediction on user input\n",
    "input_tv = float(input(\"Enter TV budget: \"))\n",
    "\n",
    "predicted_sales = model.predict([[input_tv]])\n",
    "print(f\"Predicted Sales based on TV: {input_tv} is {predicted_sales[0]:.2f}\")"
   ]
  }
 ],
 "metadata": {
  "kernelspec": {
   "display_name": "Python 3",
   "language": "python",
   "name": "python3"
  },
  "language_info": {
   "codemirror_mode": {
    "name": "ipython",
    "version": 3
   },
   "file_extension": ".py",
   "mimetype": "text/x-python",
   "name": "python",
   "nbconvert_exporter": "python",
   "pygments_lexer": "ipython3",
   "version": "3.13.4"
  }
 },
 "nbformat": 4,
 "nbformat_minor": 5
}
